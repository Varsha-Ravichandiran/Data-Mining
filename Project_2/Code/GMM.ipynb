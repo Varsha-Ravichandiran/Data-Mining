{
 "cells": [
  {
   "cell_type": "markdown",
   "metadata": {
    "id": "7tK6tr06d2Z7"
   },
   "source": [
    "**Gaussian Mixture Model**"
   ]
  },
  {
   "cell_type": "code",
   "execution_count": 16,
   "metadata": {
    "id": "cJ33FOC2Bpzi"
   },
   "outputs": [],
   "source": [
    "import pandas as pd\n",
    "import numpy as np\n",
    "import matplotlib.pyplot as plt\n",
    "from sklearn.decomposition import PCA\n",
    "from scipy.stats import multivariate_normal"
   ]
  },
  {
   "cell_type": "code",
   "execution_count": 17,
   "metadata": {
    "id": "i9eXfJV931Q9"
   },
   "outputs": [],
   "source": [
    "def visualization(data, labels):\n",
    "  labels += 1\n",
    "  targets = list(set(labels))\n",
    "  pca_df = PCA(n_components=2)\n",
    "  pca_df.fit(X)\n",
    "  principle_components_matrix = pca_df.transform(X)\n",
    "  for i, u in enumerate(targets):\n",
    "      xi = [p for (j,p) in enumerate(principle_components_matrix[:,0]) if labels[j] == u]\n",
    "      yi = [p for (j,p) in enumerate(principle_components_matrix[:,1]) if labels[j] == u]\n",
    "      plt.scatter(xi, yi)\n",
    "  plt.title(\"Clustering results for\"+\" \"+ data +\" dataset\", fontsize = 15)\n",
    "  plt.xlabel(\"Feature 1\", fontsize = 10)\n",
    "  plt.ylabel(\"Feature 2\", fontsize = 10)\n",
    "  plt.legend(targets)\n",
    "  plt.show()\n",
    "def external_index_calc(df, Y, labels):\n",
    "  TP, TN, FP, FN = 0,0,0,0\n",
    "  for i in range(len(df)):\n",
    "      for j in range(len(df)):\n",
    "          if Y[i] == Y[j]:\n",
    "              if labels[i] == labels[j]:\n",
    "                  TP = TP + 1\n",
    "              else:\n",
    "                  FN = FN + 1\n",
    "          elif Y[i] != Y[j]:\n",
    "              if labels[i] == labels[j]:\n",
    "                  FP = FP + 1\n",
    "              else:\n",
    "                  TN = TN + 1\n",
    "  jaccard_value = (TP)/(TP + FP + FN)\n",
    "  rand_value = (TP + TN)/(TP + TN + FP + FN)\n",
    "  print(\"Jaccard Coefficient = \", jaccard_value)\n",
    "  print(\"Rand Index = \", rand_value)"
   ]
  },
  {
   "cell_type": "code",
   "execution_count": 20,
   "metadata": {
    "id": "pZhcCJnYRAi7"
   },
   "outputs": [],
   "source": [
    "class GMM:\n",
    "    def __init__(self, C, n_iters):\n",
    "      self.C = C\n",
    "      self.n_iters = n_iters    \n",
    "          \n",
    "    def _initialise_parameters(self, X):\n",
    "      self.shape = X.shape\n",
    "      self.n, self.m = self.shape\n",
    "\n",
    "      # if not given\n",
    "      self._initial_pi = np.full(shape = self.C, fill_value = 1/self.C)\n",
    "      self.weights = np.full( shape = self.shape, fill_value = 1/self.C)\n",
    "      random_row = np.random.randint(low = 0, high = self.n, size = self.C)\n",
    "      self._initial_means = [X[row_index,:] for row_index in random_row]\n",
    "      self._initial_cov = [np.cov(X.T) for _ in range(self.C)]\n",
    "      self.smoothing_value = 0.0000001\n",
    "      self.conv_threshold = 0.00000001\n",
    "\n",
    "      # if given\n",
    "#       self._initial_pi = [np.asarray(ele , dtype = float) for ele in [0.5,0.5]]\n",
    "#       self._initial_means = [np.asarray(ele, dtype = float)for ele in [[0,0],[1,1]]]\n",
    "#       self._initial_cov = [np.asarray(ele, dtype = float)for ele in [[[1,1],[1,1]],[[2,2],[2,2]]]]\n",
    "#       self.smoothing_value = 1e-9\n",
    "#       self.conv_threshold = 1e-9\n",
    "      return (self._initial_means, self._initial_cov, self._initial_pi)\n",
    "           \n",
    "    def _e_step(self, X):\n",
    "      self.cluster_prob, labels = self.predict(X)\n",
    "      self.pi = self.cluster_prob.mean(axis=0)\n",
    "    \n",
    "    def _m_step(self, X):\n",
    "      for i in range(self.C):\n",
    "        weight = self.cluster_prob[:,[i]]\n",
    "        total_weight = weight.sum()\n",
    "        self.mu[i] = (X * weight).sum(axis=0) / total_weight\n",
    "        self.sigma[i] = np.cov(X.T,aweights=(weight/total_weight).flatten(), bias=True)\n",
    "        for i , ele in enumerate(self.sigma):\n",
    "          np.fill_diagonal(self.sigma[i], ele.diagonal() + self.smoothing_value)\n",
    "    \n",
    "    def _compute_loss_function(self, X):\n",
    "      N = X.shape[0]\n",
    "      L = self.cluster_prob.shape[1]\n",
    "      self.loss = np.zeros((N, L))\n",
    "      for c in range(L):\n",
    "        dist = multivariate_normal(self.mu[c], self.sigma[c], allow_singular = True)\n",
    "        self.loss[:,c] = self.cluster_prob[:,c] * (np.log(self.pi[c]+0.00000001)+dist.logpdf(X)-np.log(self.cluster_prob[:,c]+0.000000001))\n",
    "      self.loss = np.sum(self.loss)\n",
    "      return self.loss\n",
    "      \n",
    "    def fit(self, X):\n",
    "      self.mu, self.sigma, self.pi =  self._initialise_parameters(X)\n",
    "      loss = None\n",
    "      for iter in range(self.n_iters):  \n",
    "        self._e_step(X)\n",
    "        self._m_step(X)\n",
    "        calculated_loss = self._compute_loss_function(X)\n",
    "        if loss != None and abs(calculated_loss - loss) <= self.conv_threshold:\n",
    "          break\n",
    "        loss = calculated_loss\n",
    "     \n",
    "    def predict(self, X):\n",
    "      labels = np.zeros((X.shape[0], self.C))    \n",
    "      for c in range(self.C):\n",
    "        distribution = multivariate_normal(mean = self.mu[c], cov = self.sigma[c], allow_singular = True)\n",
    "        labels[:,c] = distribution.pdf(X)\n",
    "      numerator = labels * self.pi\n",
    "      denominator = numerator.sum(axis=1)[:,np.newaxis]\n",
    "      weights = numerator / denominator\n",
    "      weights1  = weights.argmax(1)\n",
    "      return weights, weights1 "
   ]
  },
  {
   "cell_type": "code",
   "execution_count": 24,
   "metadata": {
    "colab": {
     "base_uri": "https://localhost:8080/",
     "height": 665
    },
    "id": "mN7X8Ip2RAwT",
    "outputId": "481c3572-ecc4-456c-e291-76d70688ad29"
   },
   "outputs": [
    {
     "name": "stdout",
     "output_type": "stream",
     "text": [
      "Enter the file name : iyer\n",
      "Do you want to enter parameters manually ? 1. Yes 2. No : 1\n",
      "Enter mu - values separated by | 0,0|1,1\n",
      "Enter pi - values separated by ,0.5,0.6\n",
      "Enter sigma - values separated by , and | and ; 1,1|1,1;2,2|2,7\n"
     ]
    },
    {
     "data": {
      "image/png": "[encoded data removed]",
      "text/plain": [
       "<Figure size 432x288 with 1 Axes>"
      ]
     },
     "metadata": {
      "needs_background": "light"
     },
     "output_type": "display_data"
    },
    {
     "name": "stdout",
     "output_type": "stream",
     "text": [
      "Jaccard Coefficient =  0.33951267467172247\n",
      "Rand Index =  0.7536673787548309\n"
     ]
    }
   ],
   "source": [
    "filename = input(\"Enter the file name : \")\n",
    "choice = input(\"Do you want to enter parameters manually ? 1. Yes 2. No : \")\n",
    "\n",
    "if choice == '1':\n",
    "    mu = input(\"Enter mu - values separated by | \").split(\"|\")\n",
    "    pi = input(\"Enter pi - values separated by ,\").split(\",\")\n",
    "    sigma = input(\"Enter sigma - values separated by , and | and ; \").split(\"|\")\n",
    "df = pd.read_csv(filename +'.txt', sep=\"\\t\", header=None)\n",
    "# df = pd.read_csv('/content/drive/My Drive/DM Proj2/'+ i +'.txt', sep=\" \", header=None)\n",
    "X = df.iloc[:,2:]\n",
    "Y = df.iloc[:,1]\n",
    "X = np.asarray(X)\n",
    "Y = np.asarray(Y)\n",
    "Y1 = [x for x in np.unique(Y) if x > 0]\n",
    "clusters = len(Y1)\n",
    "#   gmm = GMM(clusters, n_iters = 100)\n",
    "gmm = GMM(clusters, n_iters = 100)\n",
    "gmm.fit(X)\n",
    "Prob_matrix, predicted_labels = gmm.predict(X)\n",
    "visualization(filename, predicted_labels)\n",
    "external_index_calc(df, Y, predicted_labels)"
   ]
  },
  {
   "cell_type": "code",
   "execution_count": null,
   "metadata": {},
   "outputs": [],
   "source": []
  }
 ],
 "metadata": {
  "colab": {
   "collapsed_sections": [],
   "name": "GMM_Code.ipynb",
   "provenance": []
  },
  "kernelspec": {
   "display_name": "Python 3",
   "language": "python",
   "name": "python3"
  },
  "language_info": {
   "codemirror_mode": {
    "name": "ipython",
    "version": 3
   },
   "file_extension": ".py",
   "mimetype": "text/x-python",
   "name": "python",
   "nbconvert_exporter": "python",
   "pygments_lexer": "ipython3",
   "version": "3.8.3"
  }
 },
 "nbformat": 4,
 "nbformat_minor": 1
}
