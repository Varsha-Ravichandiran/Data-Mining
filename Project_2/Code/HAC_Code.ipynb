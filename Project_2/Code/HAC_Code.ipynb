{
 "cells": [
  {
   "cell_type": "markdown",
   "metadata": {
    "id": "Zc05GSzWdFh4"
   },
   "source": [
    "**Hierarchical Agglomerative clustering**"
   ]
  },
  {
   "cell_type": "code",
   "execution_count": 1,
   "metadata": {
    "id": "-Aew9s81dRDW"
   },
   "outputs": [],
   "source": [
    "import pandas as pd\n",
    "import numpy as np\n",
    "import matplotlib.pyplot as plt\n",
    "from sklearn.decomposition import PCA"
   ]
  },
  {
   "cell_type": "code",
   "execution_count": 2,
   "metadata": {
    "id": "nqm_UrgydRM6"
   },
   "outputs": [],
   "source": [
    "def dist_matrix_cal(X):\n",
    "  m,n  = X.shape\n",
    "  Dist_mat = np.zeros((m, m))\n",
    "  for i in range(m):\n",
    "    for j in range(m):\n",
    "      Dist_mat[i,j] = np.linalg.norm(X.values[i,:] - X.values[j,:])\n",
    "      Dist_mat[j,i] = Dist_mat[i,j]\n",
    "  return Dist_mat\n",
    "def hc_agglomerative(X, clusters):\n",
    "  Dist_mat = dist_matrix_cal(X)\n",
    "  cluster_label = [[i] for i in range(len(X))]\n",
    "  for k in range(len(X) - clusters):\n",
    "    min_value = np.min(Dist_mat[np.nonzero(Dist_mat)])\n",
    "    row_index = np.where(Dist_mat == min_value)[0][0]\n",
    "    col_index = np.where(Dist_mat == min_value)[1][0]\n",
    "    for index,cluster in enumerate(cluster_label):\n",
    "      if row_index in cluster:\n",
    "          x_index = index\n",
    "      if col_index in cluster:\n",
    "          y_index = index\n",
    "    cluster_label[x_index] = cluster_label[x_index] + cluster_label[y_index]\n",
    "    cluster_label.pop(y_index)\n",
    "    for i in range(len(X)):\n",
    "        Dist_mat[row_index][i] = min(Dist_mat[row_index][i],Dist_mat[col_index][i])\n",
    "        Dist_mat[i][row_index] = min(Dist_mat[i][row_index],Dist_mat[i][col_index])\n",
    "        Dist_mat[col_index][i] = np.inf\n",
    "        Dist_mat[i][col_index] = np.inf\n",
    "        Dist_mat[i][i] =0\n",
    "    labels = np.zeros(len(X),dtype=int)\n",
    "    k = 1;\n",
    "    for i in cluster_label:\n",
    "      for j in i:\n",
    "          labels[j] = k\n",
    "      k += 1\n",
    "  # print(labels)\n",
    "  return labels"
   ]
  },
  {
   "cell_type": "code",
   "execution_count": 3,
   "metadata": {
    "id": "8-KoN9oWdRPo"
   },
   "outputs": [],
   "source": [
    "def visualization(data, labels):\n",
    "  targets = list(set(labels))\n",
    "  pca_df = PCA(n_components=2)\n",
    "  pca_df.fit(X)\n",
    "  principle_components_matrix = pca_df.transform(X)\n",
    "  for i, u in enumerate(targets):\n",
    "      xi = [p for (j,p) in enumerate(principle_components_matrix[:,0]) if labels[j] == u]\n",
    "      yi = [p for (j,p) in enumerate(principle_components_matrix[:,1]) if labels[j] == u]\n",
    "      plt.scatter(xi, yi)\n",
    "  plt.title(\"Clustering results for\"+\" \"+ data +\" dataset\", fontsize = 15)\n",
    "  plt.xlabel(\"Feature 1\", fontsize = 10)\n",
    "  plt.ylabel(\"Feature 2\", fontsize = 10)\n",
    "  plt.legend(targets)\n",
    "  plt.show()\n",
    "\n",
    "\n",
    "def external_index_calc(df, Y, labels):\n",
    "  TP, TN, FP, FN = 0,0,0,0\n",
    "  for i in range(len(df)):\n",
    "      for j in range(len(df)):\n",
    "          if Y[i] == Y[j]:\n",
    "              if labels[i] == labels[j]:\n",
    "                  TP = TP + 1\n",
    "              else:\n",
    "                  FN = FN + 1\n",
    "          elif Y[i] != Y[j]:\n",
    "              if labels[i] == labels[j]:\n",
    "                  FP = FP + 1\n",
    "              else:\n",
    "                  TN = TN + 1\n",
    "  jaccard_value = (TP)/(TP + FP + FN)\n",
    "  rand_value = (TP + TN)/(TP + TN + FP + FN)\n",
    "  print(\"Jaccard Coefficient = \", jaccard_value)\n",
    "  print(\"Rand Index = \", rand_value)"
   ]
  },
  {
   "cell_type": "code",
   "execution_count": 4,
   "metadata": {
    "colab": {
     "base_uri": "https://localhost:8080/",
     "height": 665
    },
    "id": "uEopIhG-dRTL",
    "outputId": "aece4ffc-75a5-4c14-b674-9458ca599052"
   },
   "outputs": [
    {
     "name": "stdout",
     "output_type": "stream",
     "text": [
      "Enter the file name : iyer\n",
      "Enter the number of clusters : 10\n",
      "Hierarchical Agglomerative clustering\n"
     ]
    },
    {
     "data": {
      "image/png": "[encoded data removed]",
      "text/plain": [
       "<Figure size 432x288 with 1 Axes>"
      ]
     },
     "metadata": {
      "needs_background": "light"
     },
     "output_type": "display_data"
    },
    {
     "name": "stdout",
     "output_type": "stream",
     "text": [
      "Jaccard Coefficient =  0.15824309696642858\n",
      "Rand Index =  0.1882868355974245\n"
     ]
    }
   ],
   "source": [
    "filename = input(\"Enter the file name : \") \n",
    "clusters = input(\"Enter the number of clusters : \")\n",
    "\n",
    "# datasets = ['new_dataset_2']\n",
    "print(\"Hierarchical Agglomerative clustering\")\n",
    "\n",
    "df = pd.read_csv(filename + '.txt',delim_whitespace=True, header=None)\n",
    "X = df.iloc[:,2:]\n",
    "Y = df.iloc[:,1]\n",
    "Y1 = [x for x in np.unique(Y) if x > 0]\n",
    "clusters = len(Y1)\n",
    "# print(clusters)\n",
    "predicted_labels = hc_agglomerative(X, clusters)\n",
    "visualization(filename, predicted_labels)\n",
    "external_index_calc(df, Y, predicted_labels)"
   ]
  },
  {
   "cell_type": "code",
   "execution_count": null,
   "metadata": {},
   "outputs": [],
   "source": []
  }
 ],
 "metadata": {
  "colab": {
   "name": "HAC_Code.ipynb",
   "provenance": []
  },
  "kernelspec": {
   "display_name": "Python 3",
   "language": "python",
   "name": "python3"
  },
  "language_info": {
   "codemirror_mode": {
    "name": "ipython",
    "version": 3
   },
   "file_extension": ".py",
   "mimetype": "text/x-python",
   "name": "python",
   "nbconvert_exporter": "python",
   "pygments_lexer": "ipython3",
   "version": "3.8.3"
  }
 },
 "nbformat": 4,
 "nbformat_minor": 1
}
