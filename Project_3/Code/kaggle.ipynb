{
 "cells": [
  {
   "cell_type": "code",
   "execution_count": null,
   "metadata": {},
   "outputs": [],
   "source": [
    "import pandas as pd\n",
    "import numpy as np\n",
    "import csv\n",
    "from sklearn.model_selection import train_test_split\n",
    "from sklearn.preprocessing import StandardScaler\n",
    "from sklearn.decomposition import PCA\n",
    "from sklearn.ensemble import AdaBoostClassifier\n",
    "from sklearn.tree import DecisionTreeClassifier\n",
    "from sklearn.metrics import confusion_matrix,accuracy_score,f1_score\n",
    "\n",
    "X_Train_df = pd.read_csv('/content/drive/MyDrive/DM Proj3/Kaggle/train_features.csv', header=None)\n",
    "X_Train_df = X_Train_df.drop(0, axis =1)\n",
    "X_Train_df = StandardScaler().fit_transform(X_Train_df)\n",
    "pca = PCA(n_components = 95)\n",
    "X_Train_df = pca.fit_transform(X_Train_df)\n",
    "\n",
    "Y_Train_df = pd.read_csv('/content/drive/MyDrive/DM Proj3/Kaggle/train_labels.csv', header=None)\n",
    "Y_Train_df = Y_Train_df.drop(0, axis =0)\n",
    "Y_Train_df = Y_Train_df.drop(0, axis =1)\n",
    "\n",
    "X_Test_df = pd.read_csv('/content/drive/MyDrive/DM Proj3/Kaggle/test_features.csv', header=None)\n",
    "X_Test_df = X_Test_df.drop(0, axis =1)\n",
    "X_Test_df = StandardScaler().fit_transform(X_Test_df)\n",
    "pca = PCA(n_components = 95)\n",
    "X_Test_df = pca.fit_transform(X_Test_df)\n",
    "\n",
    "X_Train_df = np.asarray(X_Train_df)\n",
    "X_Test_df = np.asarray(X_Test_df)\n",
    "Y_Train_df = np.asarray(Y_Train_df)\n",
    "\n",
    "classifier = AdaBoostClassifier(\n",
    "    DecisionTreeClassifier(max_depth = 2),\n",
    "    n_estimators=200\n",
    ")\n",
    "classifier.fit(X_Train_df, Y_Train_df)\n",
    "predictions = classifier.predict(X_Test_df)\n",
    "\n",
    "with open('/content/drive/MyDrive/DM Proj3/Kaggle/test_labels.csv', 'w', newline='') as file:\n",
    "    writer = csv.writer(file)\n",
    "    writer.writerow([\"id\", \"label\"])\n",
    "    for i, j in enumerate(predictions):\n",
    "      writer.writerow([i, j])\n"
   ]
  },
  {
   "cell_type": "code",
   "execution_count": null,
   "metadata": {},
   "outputs": [],
   "source": []
  }
 ],
 "metadata": {
  "kernelspec": {
   "display_name": "Python 3",
   "language": "python",
   "name": "python3"
  },
  "language_info": {
   "codemirror_mode": {
    "name": "ipython",
    "version": 3
   },
   "file_extension": ".py",
   "mimetype": "text/x-python",
   "name": "python",
   "nbconvert_exporter": "python",
   "pygments_lexer": "ipython3",
   "version": "3.8.3"
  }
 },
 "nbformat": 4,
 "nbformat_minor": 4
}
